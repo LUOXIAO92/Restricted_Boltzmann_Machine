{
 "cells": [
  {
   "cell_type": "code",
   "execution_count": null,
   "id": "47f65896",
   "metadata": {},
   "outputs": [],
   "source": [
    "import cupy as np\n",
    "from torchvision import datasets, transforms\n",
    "\n",
    "dtype = np.float32"
   ]
  },
  {
   "cell_type": "code",
   "execution_count": null,
   "id": "834fcfe5",
   "metadata": {},
   "outputs": [],
   "source": [
    "training_data_set = datasets.MNIST(\n",
    "    root        = \"./data/MNIST/\",\n",
    "    train       = True,\n",
    "    transform   = transforms.ToTensor,\n",
    "    download    = True\n",
    "    ).data.numpy() / 255\n",
    "\n",
    "testing_data_set = datasets.MNIST(\n",
    "    root        = \"./data/MNIST/\",\n",
    "    train       = False,\n",
    "    transform   = transforms.ToTensor,\n",
    "    download    = True\n",
    "    ).data.numpy() / 255\n",
    "\n",
    "training_data_set = np.asarray(training_data_set, dtype)\n",
    "testing_data_set  = np.asarray(testing_data_set , dtype)\n",
    "\n",
    "training_data_set[training_data_set < 0.3] = 0\n",
    "training_data_set[training_data_set >= 0.3] = 1\n",
    "testing_data_set[testing_data_set < 0.3] = 0\n",
    "testing_data_set[testing_data_set >= 0.3] = 1"
   ]
  },
  {
   "cell_type": "code",
   "execution_count": null,
   "id": "8bf3511b",
   "metadata": {},
   "outputs": [],
   "source": [
    "def random_separate(\n",
    "        data_set_size   : int,\n",
    "        separate_size   : int | tuple,\n",
    "        seed            : int | None = None\n",
    "        ):\n",
    "    \n",
    "    rs = np.random.RandomState(seed)\n",
    "    if hasattr(separate_size, \"__iter__\"):\n",
    "        _randIdx = rs.choice(data_set_size, sum(list(separate_size)), replace = False)\n",
    "        randIdx = []\n",
    "        for i in range(len(separate_size)):\n",
    "            randIdx.append(_randIdx[sum(separate_size[: i]) : sum(separate_size[: i + 1])])\n",
    "    else:\n",
    "        randIdx = rs.choice(data_set_size, separate_size, replace = False)\n",
    "\n",
    "    return randIdx\n",
    "\n",
    "\n",
    "n_validation = 10000\n",
    "n_training   = 60000 - n_validation\n",
    "n_testing    = 10000\n",
    "\n",
    "idx_training_data_set, idx_validation_data_set = random_separate(\n",
    "    data_set_size = training_data_set.shape[0], \n",
    "    separate_size = (n_training, n_validation),\n",
    "    seed          = 12345\n",
    "    )\n",
    "\n",
    "idx_testing_data_set = random_separate(\n",
    "    data_set_size = testing_data_set.shape[0], \n",
    "    separate_size = n_testing,\n",
    "    seed          = 12345\n",
    ")\n",
    "\n",
    "validation_data_set = training_data_set[idx_validation_data_set]\n",
    "training_data_set   = training_data_set[idx_training_data_set]\n",
    "testing_data_set    = testing_data_set[idx_testing_data_set]\n",
    "\n",
    "#training_data_set   = training_data_set[idx_training_data_set]\n",
    "#validation_data_set = training_data_set\n",
    "#testing_data_set    = training_data_set\n",
    "\n",
    "training_data_set.shape, validation_data_set.shape, testing_data_set.shape"
   ]
  },
  {
   "cell_type": "code",
   "execution_count": null,
   "id": "172b2ad3",
   "metadata": {},
   "outputs": [],
   "source": [
    "from Restricted_Boltzmann_Machine.Restricted_Boltzmann_Machine import RBM\n",
    "from Restricted_Boltzmann_Machine.Training import RBM_training\n",
    "\n",
    "rbm = RBM(\n",
    "    visible_size  = 28 * 28,\n",
    "    hidden_size   = 64,\n",
    "    seed          = 1234,\n",
    "    dtype         = np.float32\n",
    "    )\n",
    "\n",
    "training = RBM_training(\n",
    "    rbm                 = rbm,\n",
    "    epochs              = 40,\n",
    "    training_samples    = training_data_set,\n",
    "    validation_samples  = validation_data_set,\n",
    "    testing_samples     = testing_data_set,\n",
    "    batch_size          = 400,\n",
    "    learning_rate       = 1e-4\n",
    ")\n",
    "\n",
    "training.start_training(1)\n"
   ]
  },
  {
   "cell_type": "code",
   "execution_count": null,
   "id": "ff36d1e1",
   "metadata": {},
   "outputs": [],
   "source": [
    "n_figs = min(100, testing_data_set.shape[0])\n",
    "testing = testing_data_set[:n_figs].reshape((n_figs, 28*28))\n",
    "reconstruct, _, _ = rbm.forward(testing)\n",
    "\n",
    "testing = testing.reshape((n_figs, 28, 28)) * 255\n",
    "testing = testing.astype(np.int8)\n",
    "reconstruct = reconstruct.reshape((n_figs, 28, 28)) * 255\n",
    "reconstruct = reconstruct.astype(np.int8)\n"
   ]
  },
  {
   "cell_type": "code",
   "execution_count": null,
   "id": "0e0ed990",
   "metadata": {},
   "outputs": [],
   "source": [
    "from PIL import Image\n",
    "import os\n",
    "\n",
    "if os.path.exists(\"./figs/\") is not True:\n",
    "    os.mkdir(\"./figs/\")\n",
    "\n",
    "for i in range(n_figs):\n",
    "    im_test = Image.fromarray(testing[i].get(), mode = \"L\")\n",
    "    im_test.save(f\"./figs/{i+1}_original.jpg\")\n",
    "    im_reconstruct = Image.fromarray(reconstruct[i].get(), mode = \"L\")\n",
    "    im_reconstruct.save(f\"./figs/{i+1}_reconstruct.jpg\")\n"
   ]
  }
 ],
 "metadata": {
  "kernelspec": {
   "display_name": "huggingface",
   "language": "python",
   "name": "python3"
  },
  "language_info": {
   "codemirror_mode": {
    "name": "ipython",
    "version": 3
   },
   "file_extension": ".py",
   "mimetype": "text/x-python",
   "name": "python",
   "nbconvert_exporter": "python",
   "pygments_lexer": "ipython3",
   "version": "3.13.2"
  }
 },
 "nbformat": 4,
 "nbformat_minor": 5
}
